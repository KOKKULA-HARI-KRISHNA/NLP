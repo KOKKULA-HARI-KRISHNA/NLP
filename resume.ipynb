{
  "nbformat": 4,
  "nbformat_minor": 0,
  "metadata": {
    "colab": {
      "name": "resume.ipynb",
      "provenance": [],
      "toc_visible": true
    },
    "kernelspec": {
      "name": "python3",
      "display_name": "Python 3"
    },
    "language_info": {
      "name": "python"
    }
  },
  "cells": [
    {
      "cell_type": "code",
      "metadata": {
        "id": "jZZo2XGc7bqH"
      },
      "source": [
        "import pandas as pd"
      ],
      "execution_count": null,
      "outputs": []
    },
    {
      "cell_type": "code",
      "metadata": {
        "id": "qAlGNBrP7KK-"
      },
      "source": [
        "data = pd.read_csv('/content/drive/MyDrive/Colab Notebooks/nlp/NATURAL LANGUAGE PROCESSING/UpdatedResumeDataSet.csv')"
      ],
      "execution_count": null,
      "outputs": []
    },
    {
      "cell_type": "code",
      "metadata": {
        "colab": {
          "base_uri": "https://localhost:8080/",
          "height": 194
        },
        "id": "EglKPNrB7Z93",
        "outputId": "538587c3-77fd-4512-c371-1a82ece04abf"
      },
      "source": [
        "data.head()"
      ],
      "execution_count": null,
      "outputs": [
        {
          "output_type": "execute_result",
          "data": {
            "text/html": [
              "<div>\n",
              "<style scoped>\n",
              "    .dataframe tbody tr th:only-of-type {\n",
              "        vertical-align: middle;\n",
              "    }\n",
              "\n",
              "    .dataframe tbody tr th {\n",
              "        vertical-align: top;\n",
              "    }\n",
              "\n",
              "    .dataframe thead th {\n",
              "        text-align: right;\n",
              "    }\n",
              "</style>\n",
              "<table border=\"1\" class=\"dataframe\">\n",
              "  <thead>\n",
              "    <tr style=\"text-align: right;\">\n",
              "      <th></th>\n",
              "      <th>Category</th>\n",
              "      <th>Resume</th>\n",
              "    </tr>\n",
              "  </thead>\n",
              "  <tbody>\n",
              "    <tr>\n",
              "      <th>0</th>\n",
              "      <td>Data Science</td>\n",
              "      <td>Skills * Programming Languages: Python (pandas...</td>\n",
              "    </tr>\n",
              "    <tr>\n",
              "      <th>1</th>\n",
              "      <td>Data Science</td>\n",
              "      <td>Education Details \\r\\nMay 2013 to May 2017 B.E...</td>\n",
              "    </tr>\n",
              "    <tr>\n",
              "      <th>2</th>\n",
              "      <td>Data Science</td>\n",
              "      <td>Areas of Interest Deep Learning, Control Syste...</td>\n",
              "    </tr>\n",
              "    <tr>\n",
              "      <th>3</th>\n",
              "      <td>Data Science</td>\n",
              "      <td>Skills â¢ R â¢ Python â¢ SAP HANA â¢ Table...</td>\n",
              "    </tr>\n",
              "    <tr>\n",
              "      <th>4</th>\n",
              "      <td>Data Science</td>\n",
              "      <td>Education Details \\r\\n MCA   YMCAUST,  Faridab...</td>\n",
              "    </tr>\n",
              "  </tbody>\n",
              "</table>\n",
              "</div>"
            ],
            "text/plain": [
              "       Category                                             Resume\n",
              "0  Data Science  Skills * Programming Languages: Python (pandas...\n",
              "1  Data Science  Education Details \\r\\nMay 2013 to May 2017 B.E...\n",
              "2  Data Science  Areas of Interest Deep Learning, Control Syste...\n",
              "3  Data Science  Skills â¢ R â¢ Python â¢ SAP HANA â¢ Table...\n",
              "4  Data Science  Education Details \\r\\n MCA   YMCAUST,  Faridab..."
            ]
          },
          "metadata": {
            "tags": []
          },
          "execution_count": 4
        }
      ]
    },
    {
      "cell_type": "code",
      "metadata": {
        "colab": {
          "base_uri": "https://localhost:8080/",
          "height": 124
        },
        "id": "9CoBBgq-70sf",
        "outputId": "07186c47-b8c8-49b2-8707-3089f662183a"
      },
      "source": [
        "data['Resume'][0]"
      ],
      "execution_count": null,
      "outputs": [
        {
          "output_type": "execute_result",
          "data": {
            "application/vnd.google.colaboratory.intrinsic+json": {
              "type": "string"
            },
            "text/plain": [
              "'Skills * Programming Languages: Python (pandas, numpy, scipy, scikit-learn, matplotlib), Sql, Java, JavaScript/JQuery. * Machine learning: Regression, SVM, NaÃ¯ve Bayes, KNN, Random Forest, Decision Trees, Boosting techniques, Cluster Analysis, Word Embedding, Sentiment Analysis, Natural Language processing, Dimensionality reduction, Topic Modelling (LDA, NMF), PCA & Neural Nets. * Database Visualizations: Mysql, SqlServer, Cassandra, Hbase, ElasticSearch D3.js, DC.js, Plotly, kibana, matplotlib, ggplot, Tableau. * Others: Regular Expression, HTML, CSS, Angular 6, Logstash, Kafka, Python Flask, Git, Docker, computer vision - Open CV and understanding of Deep learning.Education Details \\r\\n\\r\\nData Science Assurance Associate \\r\\n\\r\\nData Science Assurance Associate - Ernst & Young LLP\\r\\nSkill Details \\r\\nJAVASCRIPT- Exprience - 24 months\\r\\njQuery- Exprience - 24 months\\r\\nPython- Exprience - 24 monthsCompany Details \\r\\ncompany - Ernst & Young LLP\\r\\ndescription - Fraud Investigations and Dispute Services   Assurance\\r\\nTECHNOLOGY ASSISTED REVIEW\\r\\nTAR (Technology Assisted Review) assists in accelerating the review process and run analytics and generate reports.\\r\\n* Core member of a team helped in developing automated review platform tool from scratch for assisting E discovery domain, this tool implements predictive coding and topic modelling by automating reviews, resulting in reduced labor costs and time spent during the lawyers review.\\r\\n* Understand the end to end flow of the solution, doing research and development for classification models, predictive analysis and mining of the information present in text data. Worked on analyzing the outputs and precision monitoring for the entire tool.\\r\\n* TAR assists in predictive coding, topic modelling from the evidence by following EY standards. Developed the classifier models in order to identify \"red flags\" and fraud-related issues.\\r\\n\\r\\nTools & Technologies: Python, scikit-learn, tfidf, word2vec, doc2vec, cosine similarity, NaÃ¯ve Bayes, LDA, NMF for topic modelling, Vader and text blob for sentiment analysis. Matplot lib, Tableau dashboard for reporting.\\r\\n\\r\\nMULTIPLE DATA SCIENCE AND ANALYTIC PROJECTS (USA CLIENTS)\\r\\nTEXT ANALYTICS - MOTOR VEHICLE CUSTOMER REVIEW DATA * Received customer feedback survey data for past one year. Performed sentiment (Positive, Negative & Neutral) and time series analysis on customer comments across all 4 categories.\\r\\n* Created heat map of terms by survey category based on frequency of words * Extracted Positive and Negative words across all the Survey categories and plotted Word cloud.\\r\\n* Created customized tableau dashboards for effective reporting and visualizations.\\r\\nCHATBOT * Developed a user friendly chatbot for one of our Products which handle simple questions about hours of operation, reservation options and so on.\\r\\n* This chat bot serves entire product related questions. Giving overview of tool via QA platform and also give recommendation responses so that user question to build chain of relevant answer.\\r\\n* This too has intelligence to build the pipeline of questions as per user requirement and asks the relevant /recommended questions.\\r\\n\\r\\nTools & Technologies: Python, Natural language processing, NLTK, spacy, topic modelling, Sentiment analysis, Word Embedding, scikit-learn, JavaScript/JQuery, SqlServer\\r\\n\\r\\nINFORMATION GOVERNANCE\\r\\nOrganizations to make informed decisions about all of the information they store. The integrated Information Governance portfolio synthesizes intelligence across unstructured data sources and facilitates action to ensure organizations are best positioned to counter information risk.\\r\\n* Scan data from multiple sources of formats and parse different file formats, extract Meta data information, push results for indexing elastic search and created customized, interactive dashboards using kibana.\\r\\n* Preforming ROT Analysis on the data which give information of data which helps identify content that is either Redundant, Outdated, or Trivial.\\r\\n* Preforming full-text search analysis on elastic search with predefined methods which can tag as (PII) personally identifiable information (social security numbers, addresses, names, etc.) which frequently targeted during cyber-attacks.\\r\\nTools & Technologies: Python, Flask, Elastic Search, Kibana\\r\\n\\r\\nFRAUD ANALYTIC PLATFORM\\r\\nFraud Analytics and investigative platform to review all red flag cases.\\r\\nâ\\x80¢ FAP is a Fraud Analytics and investigative platform with inbuilt case manager and suite of Analytics for various ERP systems.\\r\\n* It can be used by clients to interrogate their Accounting systems for identifying the anomalies which can be indicators of fraud by running advanced analytics\\r\\nTools & Technologies: HTML, JavaScript, SqlServer, JQuery, CSS, Bootstrap, Node.js, D3.js, DC.js'"
            ]
          },
          "metadata": {
            "tags": []
          },
          "execution_count": 5
        }
      ]
    },
    {
      "cell_type": "code",
      "metadata": {
        "id": "Qhg43_Kt7lSK"
      },
      "source": [
        "from nltk.stem.porter import PorterStemmer\n",
        "ps = PorterStemmer()"
      ],
      "execution_count": null,
      "outputs": []
    },
    {
      "cell_type": "code",
      "metadata": {
        "colab": {
          "base_uri": "https://localhost:8080/"
        },
        "id": "a5eCSx0M8_h8",
        "outputId": "d34d2874-611f-47c5-dfef-e991b9631ac7"
      },
      "source": [
        "import nltk\n",
        "nltk.download('stopwords')"
      ],
      "execution_count": null,
      "outputs": [
        {
          "output_type": "stream",
          "text": [
            "[nltk_data] Downloading package stopwords to /root/nltk_data...\n",
            "[nltk_data]   Unzipping corpora/stopwords.zip.\n"
          ],
          "name": "stdout"
        },
        {
          "output_type": "execute_result",
          "data": {
            "text/plain": [
              "True"
            ]
          },
          "metadata": {
            "tags": []
          },
          "execution_count": 7
        }
      ]
    },
    {
      "cell_type": "code",
      "metadata": {
        "id": "oGFHgDKo8yXo"
      },
      "source": [
        "import re\n",
        "from nltk.corpus import stopwords\n",
        "stop_words = stopwords.words('english')\n",
        "corpus = []\n",
        "for i in range(0, len(data['Resume'])):\n",
        "    review = re.sub('[^a-zA-Z]', ' ', data['Resume'][i])\n",
        "    review = review.lower()\n",
        "    review = review.split()\n",
        "    review = [ps.stem(word) for word in review if not word in stopwords.words('english')]\n",
        "    review = ' '.join(review)\n",
        "    corpus.append(review)"
      ],
      "execution_count": null,
      "outputs": []
    },
    {
      "cell_type": "markdown",
      "metadata": {
        "id": "XBXIIXRp9V1V"
      },
      "source": [
        "# bag of words"
      ]
    },
    {
      "cell_type": "code",
      "metadata": {
        "colab": {
          "base_uri": "https://localhost:8080/"
        },
        "id": "QygsRlaB86dk",
        "outputId": "55478421-4e8c-4f8b-f6b7-05050c212e19"
      },
      "source": [
        "from sklearn.feature_extraction.text import CountVectorizer\n",
        "cv = CountVectorizer(max_features=2000)\n",
        "x = cv.fit_transform(corpus).toarray()\n",
        "x"
      ],
      "execution_count": null,
      "outputs": [
        {
          "output_type": "execute_result",
          "data": {
            "text/plain": [
              "array([[0, 0, 0, ..., 0, 0, 0],\n",
              "       [0, 0, 0, ..., 0, 0, 0],\n",
              "       [0, 0, 0, ..., 0, 0, 0],\n",
              "       ...,\n",
              "       [0, 0, 0, ..., 0, 0, 0],\n",
              "       [0, 0, 0, ..., 0, 0, 0],\n",
              "       [0, 0, 0, ..., 0, 0, 0]])"
            ]
          },
          "metadata": {
            "tags": []
          },
          "execution_count": 9
        }
      ]
    },
    {
      "cell_type": "code",
      "metadata": {
        "colab": {
          "base_uri": "https://localhost:8080/"
        },
        "id": "Qq9FRVzPU8sf",
        "outputId": "1b2e882e-8d88-46be-a579-b251970e6589"
      },
      "source": [
        "data['Category'].value_counts().index"
      ],
      "execution_count": null,
      "outputs": [
        {
          "output_type": "execute_result",
          "data": {
            "text/plain": [
              "Index(['Java Developer', 'Testing', 'DevOps Engineer', 'Python Developer',\n",
              "       'Web Designing', 'HR', 'Hadoop', 'Operations Manager', 'Sales',\n",
              "       'Data Science', 'ETL Developer', 'Blockchain', 'Mechanical Engineer',\n",
              "       'Arts', 'Database', 'Electrical Engineering', 'Health and fitness',\n",
              "       'PMO', 'DotNet Developer', 'Business Analyst', 'Automation Testing',\n",
              "       'Network Security Engineer', 'Civil Engineer', 'SAP Developer',\n",
              "       'Advocate'],\n",
              "      dtype='object')"
            ]
          },
          "metadata": {
            "tags": []
          },
          "execution_count": 18
        }
      ]
    },
    {
      "cell_type": "code",
      "metadata": {
        "id": "KvFPSJ8KVQCC"
      },
      "source": [
        "y = data['Category']"
      ],
      "execution_count": null,
      "outputs": []
    },
    {
      "cell_type": "code",
      "metadata": {
        "id": "bQUtKkAs9Q1a"
      },
      "source": [
        "\n",
        "from sklearn import preprocessing\n",
        "\n",
        "# label_encoder object knows how to understand word labels.\n",
        "label_encoder = preprocessing.LabelEncoder()\n",
        "\n",
        "# Encode labels in column 'species'.\n",
        "y = label_encoder.fit_transform(data['Category'])"
      ],
      "execution_count": null,
      "outputs": []
    },
    {
      "cell_type": "code",
      "metadata": {
        "id": "s5B19nQGBCEv"
      },
      "source": [
        "#OneHotEncoder = preprocessing.OneHotEncoder()\n",
        "#y = OneHotEncoder.fit_transform(y)"
      ],
      "execution_count": null,
      "outputs": []
    },
    {
      "cell_type": "code",
      "metadata": {
        "colab": {
          "base_uri": "https://localhost:8080/"
        },
        "id": "mgfl6w1XYlrZ",
        "outputId": "112bb35c-965e-4cc7-e565-8aba8bd81030"
      },
      "source": [
        "y"
      ],
      "execution_count": null,
      "outputs": [
        {
          "output_type": "execute_result",
          "data": {
            "text/plain": [
              "array([ 6,  6,  6,  6,  6,  6,  6,  6,  6,  6,  6,  6,  6,  6,  6,  6,  6,\n",
              "        6,  6,  6,  6,  6,  6,  6,  6,  6,  6,  6,  6,  6,  6,  6,  6,  6,\n",
              "        6,  6,  6,  6,  6,  6, 12, 12, 12, 12, 12, 12, 12, 12, 12, 12, 12,\n",
              "       12, 12, 12, 12, 12, 12, 12, 12, 12, 12, 12, 12, 12, 12, 12, 12, 12,\n",
              "       12, 12, 12, 12, 12, 12, 12, 12, 12, 12, 12, 12, 12, 12, 12, 12,  0,\n",
              "        0,  0,  0,  0,  0,  0,  0,  0,  0,  0,  0,  0,  0,  0,  0,  0,  0,\n",
              "        0,  0,  1,  1,  1,  1,  1,  1,  1,  1,  1,  1,  1,  1,  1,  1,  1,\n",
              "        1,  1,  1,  1,  1,  1,  1,  1,  1,  1,  1,  1,  1,  1,  1,  1,  1,\n",
              "        1,  1,  1,  1, 24, 24, 24, 24, 24, 24, 24, 24, 24, 24, 24, 24, 24,\n",
              "       24, 24, 24, 24, 24, 24, 24, 24, 24, 24, 24, 24, 24, 24, 24, 24, 24,\n",
              "       24, 24, 24, 24, 24, 24, 24, 24, 24, 24, 24, 24, 24, 24, 24, 16, 16,\n",
              "       16, 16, 16, 16, 16, 16, 16, 16, 16, 16, 16, 16, 16, 16, 16, 16, 16,\n",
              "       16, 16, 16, 16, 16, 16, 16, 16, 16, 16, 16, 16, 16, 16, 16, 16, 16,\n",
              "       16, 16, 16, 16, 22, 22, 22, 22, 22, 22, 22, 22, 22, 22, 22, 22, 22,\n",
              "       22, 22, 22, 22, 22, 22, 22, 22, 22, 22, 22, 22, 22, 22, 22, 22, 22,\n",
              "       22, 22, 22, 22, 22, 22, 22, 22, 22, 22, 14, 14, 14, 14, 14, 14, 14,\n",
              "       14, 14, 14, 14, 14, 14, 14, 14, 14, 14, 14, 14, 14, 14, 14, 14, 14,\n",
              "       14, 14, 14, 14, 14, 14,  5,  5,  5,  5,  5,  5,  5,  5,  5,  5,  5,\n",
              "        5,  5,  5,  5,  5,  5,  5,  5,  5,  5,  5,  5,  5, 15, 15, 15, 15,\n",
              "       15, 15, 15, 15, 15, 15, 15, 15, 15, 15, 15, 15, 15, 15, 15, 15, 15,\n",
              "       15, 15, 15, 15, 15, 15, 15, 15, 15, 15, 15, 15, 15, 15, 15, 15, 15,\n",
              "       15, 15, 15, 15, 15, 15, 15, 15, 15, 15, 15, 15, 15, 15, 15, 15, 15,\n",
              "       15, 15, 15, 15, 15, 15, 15, 15, 15, 15, 15, 15, 15, 15, 15, 15, 15,\n",
              "       15, 15, 15, 15, 15, 15, 15, 15, 15, 15, 15, 15,  4,  4,  4,  4,  4,\n",
              "        4,  4,  4,  4,  4,  4,  4,  4,  4,  4,  4,  4,  4,  4,  4,  4,  4,\n",
              "        4,  4,  4,  4,  4,  4, 21, 21, 21, 21, 21, 21, 21, 21, 21, 21, 21,\n",
              "       21, 21, 21, 21, 21, 21, 21, 21, 21, 21, 21, 21, 21,  2,  2,  2,  2,\n",
              "        2,  2,  2,  2,  2,  2,  2,  2,  2,  2,  2,  2,  2,  2,  2,  2,  2,\n",
              "        2,  2,  2,  2,  2, 11, 11, 11, 11, 11, 11, 11, 11, 11, 11, 11, 11,\n",
              "       11, 11, 11, 11, 11, 11, 11, 11, 11, 11, 11, 11, 11, 11, 11, 11, 11,\n",
              "       11, 18, 18, 18, 18, 18, 18, 18, 18, 18, 18, 18, 18, 18, 18, 18, 18,\n",
              "       18, 18, 18, 18, 18, 18, 18, 18, 18, 18, 18, 18, 18, 18, 18, 18, 18,\n",
              "       18, 18, 18, 18, 18, 18, 18, 20, 20, 20, 20, 20, 20, 20, 20, 20, 20,\n",
              "       20, 20, 20, 20, 20, 20, 20, 20, 20, 20, 20, 20, 20, 20, 20, 20, 20,\n",
              "       20, 20, 20, 20, 20, 20, 20, 20, 20, 20, 20, 20, 20, 20, 20, 20, 20,\n",
              "       20, 20, 20, 20,  8,  8,  8,  8,  8,  8,  8,  8,  8,  8,  8,  8,  8,\n",
              "        8,  8,  8,  8,  8,  8,  8,  8,  8,  8,  8,  8,  8,  8,  8,  8,  8,\n",
              "        8,  8,  8,  8,  8,  8,  8,  8,  8,  8,  8,  8,  8,  8,  8,  8,  8,\n",
              "        8,  8,  8,  8,  8,  8,  8,  8, 17, 17, 17, 17, 17, 17, 17, 17, 17,\n",
              "       17, 17, 17, 17, 17, 17, 17, 17, 17, 17, 17, 17, 17, 17, 17, 17, 19,\n",
              "       19, 19, 19, 19, 19, 19, 19, 19, 19, 19, 19, 19, 19, 19, 19, 19, 19,\n",
              "       19, 19, 19, 19, 19, 19, 19, 19, 19, 19, 19, 19,  7,  7,  7,  7,  7,\n",
              "        7,  7,  7,  7,  7,  7,  7,  7,  7,  7,  7,  7,  7,  7,  7,  7,  7,\n",
              "        7,  7,  7,  7,  7,  7,  7,  7,  7,  7,  7, 13, 13, 13, 13, 13, 13,\n",
              "       13, 13, 13, 13, 13, 13, 13, 13, 13, 13, 13, 13, 13, 13, 13, 13, 13,\n",
              "       13, 13, 13, 13, 13, 13, 13, 13, 13, 13, 13, 13, 13, 13, 13, 13, 13,\n",
              "       13, 13, 10, 10, 10, 10, 10, 10, 10, 10, 10, 10, 10, 10, 10, 10, 10,\n",
              "       10, 10, 10, 10, 10, 10, 10, 10, 10, 10, 10, 10, 10, 10, 10, 10, 10,\n",
              "       10, 10, 10, 10, 10, 10, 10, 10,  9,  9,  9,  9,  9,  9,  9,  9,  9,\n",
              "        9,  9,  9,  9,  9,  9,  9,  9,  9,  9,  9,  9,  9,  9,  9,  9,  9,\n",
              "        9,  9,  3,  3,  3,  3,  3,  3,  3,  3,  3,  3,  3,  3,  3,  3,  3,\n",
              "        3,  3,  3,  3,  3,  3,  3,  3,  3,  3,  3,  3,  3,  3,  3,  3,  3,\n",
              "        3,  3,  3,  3,  3,  3,  3,  3, 23, 23, 23, 23, 23, 23, 23, 23, 23,\n",
              "       23, 23, 23, 23, 23, 23, 23, 23, 23, 23, 23, 23, 23, 23, 23, 23, 23,\n",
              "       23, 23, 23, 23, 23, 23, 23, 23, 23, 23, 23, 23, 23, 23, 23, 23, 23,\n",
              "       23, 23, 23, 23, 23, 23, 23, 23, 23, 23, 23, 23, 23, 23, 23, 23, 23,\n",
              "       23, 23, 23, 23, 23, 23, 23, 23, 23, 23])"
            ]
          },
          "metadata": {
            "tags": []
          },
          "execution_count": 40
        }
      ]
    },
    {
      "cell_type": "code",
      "metadata": {
        "colab": {
          "base_uri": "https://localhost:8080/"
        },
        "id": "junO9LjXWuCl",
        "outputId": "90ef9886-8104-42ec-9f9e-5e304acd049a"
      },
      "source": [
        "import numpy as np\n",
        "data['Category'].values"
      ],
      "execution_count": null,
      "outputs": [
        {
          "output_type": "execute_result",
          "data": {
            "text/plain": [
              "array(['Data Science', 'Data Science', 'Data Science', 'Data Science',\n",
              "       'Data Science', 'Data Science', 'Data Science', 'Data Science',\n",
              "       'Data Science', 'Data Science', 'Data Science', 'Data Science',\n",
              "       'Data Science', 'Data Science', 'Data Science', 'Data Science',\n",
              "       'Data Science', 'Data Science', 'Data Science', 'Data Science',\n",
              "       'Data Science', 'Data Science', 'Data Science', 'Data Science',\n",
              "       'Data Science', 'Data Science', 'Data Science', 'Data Science',\n",
              "       'Data Science', 'Data Science', 'Data Science', 'Data Science',\n",
              "       'Data Science', 'Data Science', 'Data Science', 'Data Science',\n",
              "       'Data Science', 'Data Science', 'Data Science', 'Data Science',\n",
              "       'HR', 'HR', 'HR', 'HR', 'HR', 'HR', 'HR', 'HR', 'HR', 'HR', 'HR',\n",
              "       'HR', 'HR', 'HR', 'HR', 'HR', 'HR', 'HR', 'HR', 'HR', 'HR', 'HR',\n",
              "       'HR', 'HR', 'HR', 'HR', 'HR', 'HR', 'HR', 'HR', 'HR', 'HR', 'HR',\n",
              "       'HR', 'HR', 'HR', 'HR', 'HR', 'HR', 'HR', 'HR', 'HR', 'HR', 'HR',\n",
              "       'Advocate', 'Advocate', 'Advocate', 'Advocate', 'Advocate',\n",
              "       'Advocate', 'Advocate', 'Advocate', 'Advocate', 'Advocate',\n",
              "       'Advocate', 'Advocate', 'Advocate', 'Advocate', 'Advocate',\n",
              "       'Advocate', 'Advocate', 'Advocate', 'Advocate', 'Advocate', 'Arts',\n",
              "       'Arts', 'Arts', 'Arts', 'Arts', 'Arts', 'Arts', 'Arts', 'Arts',\n",
              "       'Arts', 'Arts', 'Arts', 'Arts', 'Arts', 'Arts', 'Arts', 'Arts',\n",
              "       'Arts', 'Arts', 'Arts', 'Arts', 'Arts', 'Arts', 'Arts', 'Arts',\n",
              "       'Arts', 'Arts', 'Arts', 'Arts', 'Arts', 'Arts', 'Arts', 'Arts',\n",
              "       'Arts', 'Arts', 'Arts', 'Web Designing', 'Web Designing',\n",
              "       'Web Designing', 'Web Designing', 'Web Designing', 'Web Designing',\n",
              "       'Web Designing', 'Web Designing', 'Web Designing', 'Web Designing',\n",
              "       'Web Designing', 'Web Designing', 'Web Designing', 'Web Designing',\n",
              "       'Web Designing', 'Web Designing', 'Web Designing', 'Web Designing',\n",
              "       'Web Designing', 'Web Designing', 'Web Designing', 'Web Designing',\n",
              "       'Web Designing', 'Web Designing', 'Web Designing', 'Web Designing',\n",
              "       'Web Designing', 'Web Designing', 'Web Designing', 'Web Designing',\n",
              "       'Web Designing', 'Web Designing', 'Web Designing', 'Web Designing',\n",
              "       'Web Designing', 'Web Designing', 'Web Designing', 'Web Designing',\n",
              "       'Web Designing', 'Web Designing', 'Web Designing', 'Web Designing',\n",
              "       'Web Designing', 'Web Designing', 'Web Designing',\n",
              "       'Mechanical Engineer', 'Mechanical Engineer',\n",
              "       'Mechanical Engineer', 'Mechanical Engineer',\n",
              "       'Mechanical Engineer', 'Mechanical Engineer',\n",
              "       'Mechanical Engineer', 'Mechanical Engineer',\n",
              "       'Mechanical Engineer', 'Mechanical Engineer',\n",
              "       'Mechanical Engineer', 'Mechanical Engineer',\n",
              "       'Mechanical Engineer', 'Mechanical Engineer',\n",
              "       'Mechanical Engineer', 'Mechanical Engineer',\n",
              "       'Mechanical Engineer', 'Mechanical Engineer',\n",
              "       'Mechanical Engineer', 'Mechanical Engineer',\n",
              "       'Mechanical Engineer', 'Mechanical Engineer',\n",
              "       'Mechanical Engineer', 'Mechanical Engineer',\n",
              "       'Mechanical Engineer', 'Mechanical Engineer',\n",
              "       'Mechanical Engineer', 'Mechanical Engineer',\n",
              "       'Mechanical Engineer', 'Mechanical Engineer',\n",
              "       'Mechanical Engineer', 'Mechanical Engineer',\n",
              "       'Mechanical Engineer', 'Mechanical Engineer',\n",
              "       'Mechanical Engineer', 'Mechanical Engineer',\n",
              "       'Mechanical Engineer', 'Mechanical Engineer',\n",
              "       'Mechanical Engineer', 'Mechanical Engineer', 'Sales', 'Sales',\n",
              "       'Sales', 'Sales', 'Sales', 'Sales', 'Sales', 'Sales', 'Sales',\n",
              "       'Sales', 'Sales', 'Sales', 'Sales', 'Sales', 'Sales', 'Sales',\n",
              "       'Sales', 'Sales', 'Sales', 'Sales', 'Sales', 'Sales', 'Sales',\n",
              "       'Sales', 'Sales', 'Sales', 'Sales', 'Sales', 'Sales', 'Sales',\n",
              "       'Sales', 'Sales', 'Sales', 'Sales', 'Sales', 'Sales', 'Sales',\n",
              "       'Sales', 'Sales', 'Sales', 'Health and fitness',\n",
              "       'Health and fitness', 'Health and fitness', 'Health and fitness',\n",
              "       'Health and fitness', 'Health and fitness', 'Health and fitness',\n",
              "       'Health and fitness', 'Health and fitness', 'Health and fitness',\n",
              "       'Health and fitness', 'Health and fitness', 'Health and fitness',\n",
              "       'Health and fitness', 'Health and fitness', 'Health and fitness',\n",
              "       'Health and fitness', 'Health and fitness', 'Health and fitness',\n",
              "       'Health and fitness', 'Health and fitness', 'Health and fitness',\n",
              "       'Health and fitness', 'Health and fitness', 'Health and fitness',\n",
              "       'Health and fitness', 'Health and fitness', 'Health and fitness',\n",
              "       'Health and fitness', 'Health and fitness', 'Civil Engineer',\n",
              "       'Civil Engineer', 'Civil Engineer', 'Civil Engineer',\n",
              "       'Civil Engineer', 'Civil Engineer', 'Civil Engineer',\n",
              "       'Civil Engineer', 'Civil Engineer', 'Civil Engineer',\n",
              "       'Civil Engineer', 'Civil Engineer', 'Civil Engineer',\n",
              "       'Civil Engineer', 'Civil Engineer', 'Civil Engineer',\n",
              "       'Civil Engineer', 'Civil Engineer', 'Civil Engineer',\n",
              "       'Civil Engineer', 'Civil Engineer', 'Civil Engineer',\n",
              "       'Civil Engineer', 'Civil Engineer', 'Java Developer',\n",
              "       'Java Developer', 'Java Developer', 'Java Developer',\n",
              "       'Java Developer', 'Java Developer', 'Java Developer',\n",
              "       'Java Developer', 'Java Developer', 'Java Developer',\n",
              "       'Java Developer', 'Java Developer', 'Java Developer',\n",
              "       'Java Developer', 'Java Developer', 'Java Developer',\n",
              "       'Java Developer', 'Java Developer', 'Java Developer',\n",
              "       'Java Developer', 'Java Developer', 'Java Developer',\n",
              "       'Java Developer', 'Java Developer', 'Java Developer',\n",
              "       'Java Developer', 'Java Developer', 'Java Developer',\n",
              "       'Java Developer', 'Java Developer', 'Java Developer',\n",
              "       'Java Developer', 'Java Developer', 'Java Developer',\n",
              "       'Java Developer', 'Java Developer', 'Java Developer',\n",
              "       'Java Developer', 'Java Developer', 'Java Developer',\n",
              "       'Java Developer', 'Java Developer', 'Java Developer',\n",
              "       'Java Developer', 'Java Developer', 'Java Developer',\n",
              "       'Java Developer', 'Java Developer', 'Java Developer',\n",
              "       'Java Developer', 'Java Developer', 'Java Developer',\n",
              "       'Java Developer', 'Java Developer', 'Java Developer',\n",
              "       'Java Developer', 'Java Developer', 'Java Developer',\n",
              "       'Java Developer', 'Java Developer', 'Java Developer',\n",
              "       'Java Developer', 'Java Developer', 'Java Developer',\n",
              "       'Java Developer', 'Java Developer', 'Java Developer',\n",
              "       'Java Developer', 'Java Developer', 'Java Developer',\n",
              "       'Java Developer', 'Java Developer', 'Java Developer',\n",
              "       'Java Developer', 'Java Developer', 'Java Developer',\n",
              "       'Java Developer', 'Java Developer', 'Java Developer',\n",
              "       'Java Developer', 'Java Developer', 'Java Developer',\n",
              "       'Java Developer', 'Java Developer', 'Business Analyst',\n",
              "       'Business Analyst', 'Business Analyst', 'Business Analyst',\n",
              "       'Business Analyst', 'Business Analyst', 'Business Analyst',\n",
              "       'Business Analyst', 'Business Analyst', 'Business Analyst',\n",
              "       'Business Analyst', 'Business Analyst', 'Business Analyst',\n",
              "       'Business Analyst', 'Business Analyst', 'Business Analyst',\n",
              "       'Business Analyst', 'Business Analyst', 'Business Analyst',\n",
              "       'Business Analyst', 'Business Analyst', 'Business Analyst',\n",
              "       'Business Analyst', 'Business Analyst', 'Business Analyst',\n",
              "       'Business Analyst', 'Business Analyst', 'Business Analyst',\n",
              "       'SAP Developer', 'SAP Developer', 'SAP Developer', 'SAP Developer',\n",
              "       'SAP Developer', 'SAP Developer', 'SAP Developer', 'SAP Developer',\n",
              "       'SAP Developer', 'SAP Developer', 'SAP Developer', 'SAP Developer',\n",
              "       'SAP Developer', 'SAP Developer', 'SAP Developer', 'SAP Developer',\n",
              "       'SAP Developer', 'SAP Developer', 'SAP Developer', 'SAP Developer',\n",
              "       'SAP Developer', 'SAP Developer', 'SAP Developer', 'SAP Developer',\n",
              "       'Automation Testing', 'Automation Testing', 'Automation Testing',\n",
              "       'Automation Testing', 'Automation Testing', 'Automation Testing',\n",
              "       'Automation Testing', 'Automation Testing', 'Automation Testing',\n",
              "       'Automation Testing', 'Automation Testing', 'Automation Testing',\n",
              "       'Automation Testing', 'Automation Testing', 'Automation Testing',\n",
              "       'Automation Testing', 'Automation Testing', 'Automation Testing',\n",
              "       'Automation Testing', 'Automation Testing', 'Automation Testing',\n",
              "       'Automation Testing', 'Automation Testing', 'Automation Testing',\n",
              "       'Automation Testing', 'Automation Testing',\n",
              "       'Electrical Engineering', 'Electrical Engineering',\n",
              "       'Electrical Engineering', 'Electrical Engineering',\n",
              "       'Electrical Engineering', 'Electrical Engineering',\n",
              "       'Electrical Engineering', 'Electrical Engineering',\n",
              "       'Electrical Engineering', 'Electrical Engineering',\n",
              "       'Electrical Engineering', 'Electrical Engineering',\n",
              "       'Electrical Engineering', 'Electrical Engineering',\n",
              "       'Electrical Engineering', 'Electrical Engineering',\n",
              "       'Electrical Engineering', 'Electrical Engineering',\n",
              "       'Electrical Engineering', 'Electrical Engineering',\n",
              "       'Electrical Engineering', 'Electrical Engineering',\n",
              "       'Electrical Engineering', 'Electrical Engineering',\n",
              "       'Electrical Engineering', 'Electrical Engineering',\n",
              "       'Electrical Engineering', 'Electrical Engineering',\n",
              "       'Electrical Engineering', 'Electrical Engineering',\n",
              "       'Operations Manager', 'Operations Manager', 'Operations Manager',\n",
              "       'Operations Manager', 'Operations Manager', 'Operations Manager',\n",
              "       'Operations Manager', 'Operations Manager', 'Operations Manager',\n",
              "       'Operations Manager', 'Operations Manager', 'Operations Manager',\n",
              "       'Operations Manager', 'Operations Manager', 'Operations Manager',\n",
              "       'Operations Manager', 'Operations Manager', 'Operations Manager',\n",
              "       'Operations Manager', 'Operations Manager', 'Operations Manager',\n",
              "       'Operations Manager', 'Operations Manager', 'Operations Manager',\n",
              "       'Operations Manager', 'Operations Manager', 'Operations Manager',\n",
              "       'Operations Manager', 'Operations Manager', 'Operations Manager',\n",
              "       'Operations Manager', 'Operations Manager', 'Operations Manager',\n",
              "       'Operations Manager', 'Operations Manager', 'Operations Manager',\n",
              "       'Operations Manager', 'Operations Manager', 'Operations Manager',\n",
              "       'Operations Manager', 'Python Developer', 'Python Developer',\n",
              "       'Python Developer', 'Python Developer', 'Python Developer',\n",
              "       'Python Developer', 'Python Developer', 'Python Developer',\n",
              "       'Python Developer', 'Python Developer', 'Python Developer',\n",
              "       'Python Developer', 'Python Developer', 'Python Developer',\n",
              "       'Python Developer', 'Python Developer', 'Python Developer',\n",
              "       'Python Developer', 'Python Developer', 'Python Developer',\n",
              "       'Python Developer', 'Python Developer', 'Python Developer',\n",
              "       'Python Developer', 'Python Developer', 'Python Developer',\n",
              "       'Python Developer', 'Python Developer', 'Python Developer',\n",
              "       'Python Developer', 'Python Developer', 'Python Developer',\n",
              "       'Python Developer', 'Python Developer', 'Python Developer',\n",
              "       'Python Developer', 'Python Developer', 'Python Developer',\n",
              "       'Python Developer', 'Python Developer', 'Python Developer',\n",
              "       'Python Developer', 'Python Developer', 'Python Developer',\n",
              "       'Python Developer', 'Python Developer', 'Python Developer',\n",
              "       'Python Developer', 'DevOps Engineer', 'DevOps Engineer',\n",
              "       'DevOps Engineer', 'DevOps Engineer', 'DevOps Engineer',\n",
              "       'DevOps Engineer', 'DevOps Engineer', 'DevOps Engineer',\n",
              "       'DevOps Engineer', 'DevOps Engineer', 'DevOps Engineer',\n",
              "       'DevOps Engineer', 'DevOps Engineer', 'DevOps Engineer',\n",
              "       'DevOps Engineer', 'DevOps Engineer', 'DevOps Engineer',\n",
              "       'DevOps Engineer', 'DevOps Engineer', 'DevOps Engineer',\n",
              "       'DevOps Engineer', 'DevOps Engineer', 'DevOps Engineer',\n",
              "       'DevOps Engineer', 'DevOps Engineer', 'DevOps Engineer',\n",
              "       'DevOps Engineer', 'DevOps Engineer', 'DevOps Engineer',\n",
              "       'DevOps Engineer', 'DevOps Engineer', 'DevOps Engineer',\n",
              "       'DevOps Engineer', 'DevOps Engineer', 'DevOps Engineer',\n",
              "       'DevOps Engineer', 'DevOps Engineer', 'DevOps Engineer',\n",
              "       'DevOps Engineer', 'DevOps Engineer', 'DevOps Engineer',\n",
              "       'DevOps Engineer', 'DevOps Engineer', 'DevOps Engineer',\n",
              "       'DevOps Engineer', 'DevOps Engineer', 'DevOps Engineer',\n",
              "       'DevOps Engineer', 'DevOps Engineer', 'DevOps Engineer',\n",
              "       'DevOps Engineer', 'DevOps Engineer', 'DevOps Engineer',\n",
              "       'DevOps Engineer', 'DevOps Engineer', 'Network Security Engineer',\n",
              "       'Network Security Engineer', 'Network Security Engineer',\n",
              "       'Network Security Engineer', 'Network Security Engineer',\n",
              "       'Network Security Engineer', 'Network Security Engineer',\n",
              "       'Network Security Engineer', 'Network Security Engineer',\n",
              "       'Network Security Engineer', 'Network Security Engineer',\n",
              "       'Network Security Engineer', 'Network Security Engineer',\n",
              "       'Network Security Engineer', 'Network Security Engineer',\n",
              "       'Network Security Engineer', 'Network Security Engineer',\n",
              "       'Network Security Engineer', 'Network Security Engineer',\n",
              "       'Network Security Engineer', 'Network Security Engineer',\n",
              "       'Network Security Engineer', 'Network Security Engineer',\n",
              "       'Network Security Engineer', 'Network Security Engineer', 'PMO',\n",
              "       'PMO', 'PMO', 'PMO', 'PMO', 'PMO', 'PMO', 'PMO', 'PMO', 'PMO',\n",
              "       'PMO', 'PMO', 'PMO', 'PMO', 'PMO', 'PMO', 'PMO', 'PMO', 'PMO',\n",
              "       'PMO', 'PMO', 'PMO', 'PMO', 'PMO', 'PMO', 'PMO', 'PMO', 'PMO',\n",
              "       'PMO', 'PMO', 'Database', 'Database', 'Database', 'Database',\n",
              "       'Database', 'Database', 'Database', 'Database', 'Database',\n",
              "       'Database', 'Database', 'Database', 'Database', 'Database',\n",
              "       'Database', 'Database', 'Database', 'Database', 'Database',\n",
              "       'Database', 'Database', 'Database', 'Database', 'Database',\n",
              "       'Database', 'Database', 'Database', 'Database', 'Database',\n",
              "       'Database', 'Database', 'Database', 'Database', 'Hadoop', 'Hadoop',\n",
              "       'Hadoop', 'Hadoop', 'Hadoop', 'Hadoop', 'Hadoop', 'Hadoop',\n",
              "       'Hadoop', 'Hadoop', 'Hadoop', 'Hadoop', 'Hadoop', 'Hadoop',\n",
              "       'Hadoop', 'Hadoop', 'Hadoop', 'Hadoop', 'Hadoop', 'Hadoop',\n",
              "       'Hadoop', 'Hadoop', 'Hadoop', 'Hadoop', 'Hadoop', 'Hadoop',\n",
              "       'Hadoop', 'Hadoop', 'Hadoop', 'Hadoop', 'Hadoop', 'Hadoop',\n",
              "       'Hadoop', 'Hadoop', 'Hadoop', 'Hadoop', 'Hadoop', 'Hadoop',\n",
              "       'Hadoop', 'Hadoop', 'Hadoop', 'Hadoop', 'ETL Developer',\n",
              "       'ETL Developer', 'ETL Developer', 'ETL Developer', 'ETL Developer',\n",
              "       'ETL Developer', 'ETL Developer', 'ETL Developer', 'ETL Developer',\n",
              "       'ETL Developer', 'ETL Developer', 'ETL Developer', 'ETL Developer',\n",
              "       'ETL Developer', 'ETL Developer', 'ETL Developer', 'ETL Developer',\n",
              "       'ETL Developer', 'ETL Developer', 'ETL Developer', 'ETL Developer',\n",
              "       'ETL Developer', 'ETL Developer', 'ETL Developer', 'ETL Developer',\n",
              "       'ETL Developer', 'ETL Developer', 'ETL Developer', 'ETL Developer',\n",
              "       'ETL Developer', 'ETL Developer', 'ETL Developer', 'ETL Developer',\n",
              "       'ETL Developer', 'ETL Developer', 'ETL Developer', 'ETL Developer',\n",
              "       'ETL Developer', 'ETL Developer', 'ETL Developer',\n",
              "       'DotNet Developer', 'DotNet Developer', 'DotNet Developer',\n",
              "       'DotNet Developer', 'DotNet Developer', 'DotNet Developer',\n",
              "       'DotNet Developer', 'DotNet Developer', 'DotNet Developer',\n",
              "       'DotNet Developer', 'DotNet Developer', 'DotNet Developer',\n",
              "       'DotNet Developer', 'DotNet Developer', 'DotNet Developer',\n",
              "       'DotNet Developer', 'DotNet Developer', 'DotNet Developer',\n",
              "       'DotNet Developer', 'DotNet Developer', 'DotNet Developer',\n",
              "       'DotNet Developer', 'DotNet Developer', 'DotNet Developer',\n",
              "       'DotNet Developer', 'DotNet Developer', 'DotNet Developer',\n",
              "       'DotNet Developer', 'Blockchain', 'Blockchain', 'Blockchain',\n",
              "       'Blockchain', 'Blockchain', 'Blockchain', 'Blockchain',\n",
              "       'Blockchain', 'Blockchain', 'Blockchain', 'Blockchain',\n",
              "       'Blockchain', 'Blockchain', 'Blockchain', 'Blockchain',\n",
              "       'Blockchain', 'Blockchain', 'Blockchain', 'Blockchain',\n",
              "       'Blockchain', 'Blockchain', 'Blockchain', 'Blockchain',\n",
              "       'Blockchain', 'Blockchain', 'Blockchain', 'Blockchain',\n",
              "       'Blockchain', 'Blockchain', 'Blockchain', 'Blockchain',\n",
              "       'Blockchain', 'Blockchain', 'Blockchain', 'Blockchain',\n",
              "       'Blockchain', 'Blockchain', 'Blockchain', 'Blockchain',\n",
              "       'Blockchain', 'Testing', 'Testing', 'Testing', 'Testing',\n",
              "       'Testing', 'Testing', 'Testing', 'Testing', 'Testing', 'Testing',\n",
              "       'Testing', 'Testing', 'Testing', 'Testing', 'Testing', 'Testing',\n",
              "       'Testing', 'Testing', 'Testing', 'Testing', 'Testing', 'Testing',\n",
              "       'Testing', 'Testing', 'Testing', 'Testing', 'Testing', 'Testing',\n",
              "       'Testing', 'Testing', 'Testing', 'Testing', 'Testing', 'Testing',\n",
              "       'Testing', 'Testing', 'Testing', 'Testing', 'Testing', 'Testing',\n",
              "       'Testing', 'Testing', 'Testing', 'Testing', 'Testing', 'Testing',\n",
              "       'Testing', 'Testing', 'Testing', 'Testing', 'Testing', 'Testing',\n",
              "       'Testing', 'Testing', 'Testing', 'Testing', 'Testing', 'Testing',\n",
              "       'Testing', 'Testing', 'Testing', 'Testing', 'Testing', 'Testing',\n",
              "       'Testing', 'Testing', 'Testing', 'Testing', 'Testing', 'Testing'],\n",
              "      dtype=object)"
            ]
          },
          "metadata": {
            "tags": []
          },
          "execution_count": 41
        }
      ]
    },
    {
      "cell_type": "code",
      "metadata": {
        "colab": {
          "base_uri": "https://localhost:8080/"
        },
        "id": "gT9EWvcsV5d3",
        "outputId": "2a13a720-6995-4570-f393-72000b856a47"
      },
      "source": [
        "from collections import Counter\n",
        "Counter(data['Category'].values)"
      ],
      "execution_count": null,
      "outputs": [
        {
          "output_type": "execute_result",
          "data": {
            "text/plain": [
              "Counter({'Advocate': 20,\n",
              "         'Arts': 36,\n",
              "         'Automation Testing': 26,\n",
              "         'Blockchain': 40,\n",
              "         'Business Analyst': 28,\n",
              "         'Civil Engineer': 24,\n",
              "         'Data Science': 40,\n",
              "         'Database': 33,\n",
              "         'DevOps Engineer': 55,\n",
              "         'DotNet Developer': 28,\n",
              "         'ETL Developer': 40,\n",
              "         'Electrical Engineering': 30,\n",
              "         'HR': 44,\n",
              "         'Hadoop': 42,\n",
              "         'Health and fitness': 30,\n",
              "         'Java Developer': 84,\n",
              "         'Mechanical Engineer': 40,\n",
              "         'Network Security Engineer': 25,\n",
              "         'Operations Manager': 40,\n",
              "         'PMO': 30,\n",
              "         'Python Developer': 48,\n",
              "         'SAP Developer': 24,\n",
              "         'Sales': 40,\n",
              "         'Testing': 70,\n",
              "         'Web Designing': 45})"
            ]
          },
          "metadata": {
            "tags": []
          },
          "execution_count": 42
        }
      ]
    },
    {
      "cell_type": "code",
      "metadata": {
        "id": "4oe3z6UH3P-F"
      },
      "source": [
        "y = pd.DataFrame(y)"
      ],
      "execution_count": null,
      "outputs": []
    },
    {
      "cell_type": "code",
      "metadata": {
        "id": "icKXtyRiAqA3"
      },
      "source": [
        "index_cat = pd.DataFrame(data['Category'].value_counts())\n",
        "index_num = pd.DataFrame(y[0].value_counts())"
      ],
      "execution_count": null,
      "outputs": []
    },
    {
      "cell_type": "code",
      "metadata": {
        "id": "8bNwTvIB9u6u"
      },
      "source": [
        "from sklearn.model_selection import train_test_split\n",
        "x_train,x_test,y_train,y_test = train_test_split(x,y, random_state = 0, test_size = 0.3)"
      ],
      "execution_count": null,
      "outputs": []
    },
    {
      "cell_type": "code",
      "metadata": {
        "colab": {
          "base_uri": "https://localhost:8080/"
        },
        "id": "XrqyytX9-lk8",
        "outputId": "b565c583-45a1-4ead-b4bc-20c034111737"
      },
      "source": [
        "print(x_train.shape)\n",
        "print(x_test.shape)\n",
        "print(y_train.shape)\n",
        "print(y_test.shape)"
      ],
      "execution_count": null,
      "outputs": [
        {
          "output_type": "stream",
          "text": [
            "(673, 2000)\n",
            "(289, 2000)\n",
            "(673, 1)\n",
            "(289, 1)\n"
          ],
          "name": "stdout"
        }
      ]
    },
    {
      "cell_type": "code",
      "metadata": {
        "id": "5vsHZ6BQ-ptL"
      },
      "source": [
        "from sklearn.linear_model import LogisticRegression"
      ],
      "execution_count": null,
      "outputs": []
    },
    {
      "cell_type": "code",
      "metadata": {
        "id": "1BNG1r2e-yhw"
      },
      "source": [
        "model = LogisticRegression(random_state=0, multi_class='ovr')"
      ],
      "execution_count": null,
      "outputs": []
    },
    {
      "cell_type": "code",
      "metadata": {
        "colab": {
          "base_uri": "https://localhost:8080/"
        },
        "id": "vnLGS3yp_GZY",
        "outputId": "53af5909-a8bb-4440-9e5d-5aba55ad9c7b"
      },
      "source": [
        "model = model.fit(x_train, y_train)"
      ],
      "execution_count": null,
      "outputs": [
        {
          "output_type": "stream",
          "text": [
            "/usr/local/lib/python3.7/dist-packages/sklearn/utils/validation.py:760: DataConversionWarning: A column-vector y was passed when a 1d array was expected. Please change the shape of y to (n_samples, ), for example using ravel().\n",
            "  y = column_or_1d(y, warn=True)\n"
          ],
          "name": "stderr"
        }
      ]
    },
    {
      "cell_type": "code",
      "metadata": {
        "id": "RSdgVqXc_PDS"
      },
      "source": [
        "y_predict = model.predict(x_test)"
      ],
      "execution_count": null,
      "outputs": []
    },
    {
      "cell_type": "code",
      "metadata": {
        "id": "8mFLXEkn_UnO"
      },
      "source": [
        "from sklearn.metrics import classification_report"
      ],
      "execution_count": null,
      "outputs": []
    },
    {
      "cell_type": "code",
      "metadata": {
        "colab": {
          "base_uri": "https://localhost:8080/"
        },
        "id": "WNOxUaM4_ZYl",
        "outputId": "17f58d85-a534-430a-9731-602c16ca4de3"
      },
      "source": [
        "print(classification_report(y_predict,y_test))"
      ],
      "execution_count": null,
      "outputs": [
        {
          "output_type": "stream",
          "text": [
            "              precision    recall  f1-score   support\n",
            "\n",
            "           0       1.00      1.00      1.00         4\n",
            "           1       1.00      1.00      1.00         4\n",
            "           2       1.00      0.89      0.94         9\n",
            "           3       1.00      0.94      0.97        16\n",
            "           4       1.00      1.00      1.00        10\n",
            "           5       1.00      1.00      1.00        10\n",
            "           6       1.00      1.00      1.00        14\n",
            "           7       1.00      1.00      1.00        10\n",
            "           8       0.87      1.00      0.93        13\n",
            "           9       1.00      1.00      1.00        10\n",
            "          10       1.00      1.00      1.00        11\n",
            "          11       1.00      1.00      1.00        13\n",
            "          12       1.00      1.00      1.00        12\n",
            "          13       1.00      1.00      1.00        13\n",
            "          14       1.00      1.00      1.00         9\n",
            "          15       1.00      1.00      1.00        26\n",
            "          16       1.00      1.00      1.00         9\n",
            "          17       1.00      1.00      1.00         7\n",
            "          18       1.00      1.00      1.00        11\n",
            "          19       1.00      1.00      1.00         8\n",
            "          20       1.00      1.00      1.00        13\n",
            "          21       1.00      1.00      1.00         8\n",
            "          22       1.00      1.00      1.00        15\n",
            "          23       1.00      1.00      1.00        20\n",
            "          24       1.00      1.00      1.00        14\n",
            "\n",
            "    accuracy                           0.99       289\n",
            "   macro avg       0.99      0.99      0.99       289\n",
            "weighted avg       0.99      0.99      0.99       289\n",
            "\n"
          ],
          "name": "stdout"
        }
      ]
    },
    {
      "cell_type": "code",
      "metadata": {
        "colab": {
          "base_uri": "https://localhost:8080/"
        },
        "id": "1SIWoICo_bqA",
        "outputId": "0e89dfcb-2311-4b75-c42e-f99adff024bb"
      },
      "source": [
        "from sklearn.metrics import accuracy_score\n",
        "accuracy_score(y_predict,y_test)"
      ],
      "execution_count": null,
      "outputs": [
        {
          "output_type": "execute_result",
          "data": {
            "text/plain": [
              "0.9930795847750865"
            ]
          },
          "metadata": {
            "tags": []
          },
          "execution_count": 54
        }
      ]
    },
    {
      "cell_type": "code",
      "metadata": {
        "id": "vXzsk1rRZ1hN"
      },
      "source": [
        "keys = np.unique(data['Category'].values)"
      ],
      "execution_count": null,
      "outputs": []
    },
    {
      "cell_type": "code",
      "metadata": {
        "id": "mG5hV95xcC_k"
      },
      "source": [
        "val  = np.unique(y)"
      ],
      "execution_count": null,
      "outputs": []
    },
    {
      "cell_type": "code",
      "metadata": {
        "colab": {
          "base_uri": "https://localhost:8080/"
        },
        "id": "87UXJvqKcQB4",
        "outputId": "23830ed0-fee8-454e-b40e-e4e233430a0f"
      },
      "source": [
        "dict(zip(keys, val))"
      ],
      "execution_count": null,
      "outputs": [
        {
          "output_type": "execute_result",
          "data": {
            "text/plain": [
              "{'Advocate': 0,\n",
              " 'Arts': 1,\n",
              " 'Automation Testing': 2,\n",
              " 'Blockchain': 3,\n",
              " 'Business Analyst': 4,\n",
              " 'Civil Engineer': 5,\n",
              " 'Data Science': 6,\n",
              " 'Database': 7,\n",
              " 'DevOps Engineer': 8,\n",
              " 'DotNet Developer': 9,\n",
              " 'ETL Developer': 10,\n",
              " 'Electrical Engineering': 11,\n",
              " 'HR': 12,\n",
              " 'Hadoop': 13,\n",
              " 'Health and fitness': 14,\n",
              " 'Java Developer': 15,\n",
              " 'Mechanical Engineer': 16,\n",
              " 'Network Security Engineer': 17,\n",
              " 'Operations Manager': 18,\n",
              " 'PMO': 19,\n",
              " 'Python Developer': 20,\n",
              " 'SAP Developer': 21,\n",
              " 'Sales': 22,\n",
              " 'Testing': 23,\n",
              " 'Web Designing': 24}"
            ]
          },
          "metadata": {
            "tags": []
          },
          "execution_count": 67
        }
      ]
    },
    {
      "cell_type": "code",
      "metadata": {
        "id": "Is0aSUlYZvvY"
      },
      "source": [
        "d = {'Advocate': 0, 'Arts': 1, 'Automation Testing': 2 , 'Blockchain': 3,\n",
        "       'Business Analyst': 4, 'Civil Engineer': 5, 'Data Science': 6, 'Database': 7,\n",
        "       'DevOps Engineer': 8, 'DotNet Developer': 9, 'ETL Developer': 10,\n",
        "       'Electrical Engineering': 11, 'HR': 12, 'Hadoop': 13 , 'Health and fitness': 14,\n",
        "       'Java Developer': 15, 'Mechanical Engineer': 16,\n",
        "       'Network Security Engineer': 17, 'Operations Manager': 18, 'PMO': 19,\n",
        "       'Python Developer': 20, 'SAP Developer': 21, 'Sales': 22, 'Testing': 23,\n",
        "       'Web Designing': 24}"
      ],
      "execution_count": null,
      "outputs": []
    },
    {
      "cell_type": "code",
      "metadata": {
        "id": "PRnrT69s_f6l"
      },
      "source": [
        "def pred(corpus):\n",
        "    msg = cv.transform([corpus])\n",
        "    prediction = model.predict(msg)\n",
        "    return prediction[0]"
      ],
      "execution_count": null,
      "outputs": []
    },
    {
      "cell_type": "code",
      "metadata": {
        "id": "7R1YlGwEACq0"
      },
      "source": [
        "val = pred(data['Resume'][45])"
      ],
      "execution_count": null,
      "outputs": []
    },
    {
      "cell_type": "code",
      "metadata": {
        "colab": {
          "base_uri": "https://localhost:8080/"
        },
        "id": "V7z3arQGbZlD",
        "outputId": "977b4aab-6fa8-4688-f567-d2c0a014e599"
      },
      "source": [
        "for k,v in d.items():\n",
        "  if v == val:\n",
        "    print(k)"
      ],
      "execution_count": null,
      "outputs": [
        {
          "output_type": "stream",
          "text": [
            "HR\n"
          ],
          "name": "stdout"
        }
      ]
    },
    {
      "cell_type": "code",
      "metadata": {
        "id": "KrNjitKLbZuK"
      },
      "source": [
        ""
      ],
      "execution_count": null,
      "outputs": []
    },
    {
      "cell_type": "code",
      "metadata": {
        "id": "QT71Uxnn4fen"
      },
      "source": [
        "index_cat = pd.DataFrame(data['Category'].value_counts())\n",
        "index_num = pd.DataFrame(y[0].value_counts())"
      ],
      "execution_count": null,
      "outputs": []
    },
    {
      "cell_type": "code",
      "metadata": {
        "id": "tBzAdvhVv97h"
      },
      "source": [
        "index_num.reset_index(level = 0, inplace= True)"
      ],
      "execution_count": null,
      "outputs": []
    },
    {
      "cell_type": "code",
      "metadata": {
        "id": "neW8bnLQ6sjF"
      },
      "source": [
        "index_cat.reset_index(level = 0, inplace= True)"
      ],
      "execution_count": null,
      "outputs": []
    },
    {
      "cell_type": "code",
      "metadata": {
        "id": "wN8GyvOy6SBZ"
      },
      "source": [
        "a = index_num['index'].values"
      ],
      "execution_count": null,
      "outputs": []
    },
    {
      "cell_type": "code",
      "metadata": {
        "id": "Y5gC0CfDCapc"
      },
      "source": [
        "b = index_cat['index'].values"
      ],
      "execution_count": null,
      "outputs": []
    },
    {
      "cell_type": "code",
      "metadata": {
        "id": "TuJQ8RO8AZWD",
        "colab": {
          "base_uri": "https://localhost:8080/"
        },
        "outputId": "c30c9d11-372f-42b4-9179-dec299300b29"
      },
      "source": [
        "print(len(a))\n",
        "print(len(b))"
      ],
      "execution_count": null,
      "outputs": [
        {
          "output_type": "stream",
          "text": [
            "25\n",
            "25\n"
          ],
          "name": "stdout"
        }
      ]
    },
    {
      "cell_type": "code",
      "metadata": {
        "colab": {
          "base_uri": "https://localhost:8080/"
        },
        "id": "9_uY5BIY6zHj",
        "outputId": "696a1d1e-512b-4543-c54e-96d41f4a487b"
      },
      "source": [
        "a"
      ],
      "execution_count": null,
      "outputs": [
        {
          "output_type": "execute_result",
          "data": {
            "text/plain": [
              "array([15, 23,  8, 20, 24, 12, 13, 18, 16, 10,  3, 22,  6,  1,  7, 19, 14,\n",
              "       11,  4,  9,  2, 17,  5, 21,  0])"
            ]
          },
          "metadata": {
            "tags": []
          },
          "execution_count": 143
        }
      ]
    },
    {
      "cell_type": "code",
      "metadata": {
        "colab": {
          "base_uri": "https://localhost:8080/"
        },
        "id": "BNHwij6H7EsR",
        "outputId": "08aded9d-1066-48be-d9b1-53e98f86aa27"
      },
      "source": [
        "b"
      ],
      "execution_count": null,
      "outputs": [
        {
          "output_type": "execute_result",
          "data": {
            "text/plain": [
              "array(['Java Developer', 'Testing', 'DevOps Engineer', 'Python Developer',\n",
              "       'Web Designing', 'HR', 'Hadoop', 'Blockchain', 'Sales',\n",
              "       'Data Science', 'ETL Developer', 'Operations Manager',\n",
              "       'Mechanical Engineer', 'Arts', 'Database', 'Health and fitness',\n",
              "       'PMO', 'Electrical Engineering', 'DotNet Developer',\n",
              "       'Business Analyst', 'Automation Testing',\n",
              "       'Network Security Engineer', 'SAP Developer', 'Civil Engineer',\n",
              "       'Advocate'], dtype=object)"
            ]
          },
          "metadata": {
            "tags": []
          },
          "execution_count": 144
        }
      ]
    },
    {
      "cell_type": "code",
      "metadata": {
        "id": "FcDv6xh47Ne1"
      },
      "source": [
        "d = {15:'Java Developer', 23:'Testing',  8:'DevOps Engineer', 20:'Python Developer', \n",
        "     24 : 'Web Designing', 12: 'HR', 13 :'Hadoop', 18 : 'Blockchain', 16 : 'Sales',\n",
        "     10: 'Data Science',  3:'ETL Developer', 22:'Operations Manager',  \n",
        "     6:,  1:,  7, 19, 14,\n",
        "       11,  4,  9,  2, 17,  5, 21,  0]}"
      ],
      "execution_count": null,
      "outputs": []
    },
    {
      "cell_type": "code",
      "metadata": {
        "colab": {
          "base_uri": "https://localhost:8080/",
          "height": 36
        },
        "id": "pqH-thtOcg3n",
        "outputId": "d177c0de-2b08-4850-d3c1-b83c61e86791"
      },
      "source": [
        "data['Category'][45]"
      ],
      "execution_count": null,
      "outputs": [
        {
          "output_type": "execute_result",
          "data": {
            "application/vnd.google.colaboratory.intrinsic+json": {
              "type": "string"
            },
            "text/plain": [
              "'HR'"
            ]
          },
          "metadata": {
            "tags": []
          },
          "execution_count": 71
        }
      ]
    },
    {
      "cell_type": "code",
      "metadata": {
        "id": "DrjKVsMhchdS"
      },
      "source": [
        ""
      ],
      "execution_count": null,
      "outputs": []
    }
  ]
}